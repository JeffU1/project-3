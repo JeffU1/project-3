{
 "cells": [
  {
   "cell_type": "code",
   "execution_count": null,
   "metadata": {},
   "outputs": [],
   "source": [
    "a= ['Ja','Fe','march','Ap','May','June', 'July', 'August', 'Sept', 'Oct', 'Nov', 'Dec']\n",
    "\n",
    "list1=[]\n",
    "for i in a:\n",
    "    if len(i)>3:\n",
    "        list1.append(i)\n",
    "        print(i)\n",
    "print(len(list1))"
   ]
  }
 ],
 "metadata": {
  "language_info": {
   "codemirror_mode": {
    "name": "ipython",
    "version": 3
   },
   "file_extension": ".py",
   "mimetype": "text/x-python",
   "name": "python",
   "nbconvert_exporter": "python",
   "pygments_lexer": "ipython3",
   "version": 3
  },
  "orig_nbformat": 2
 },
 "nbformat": 4,
 "nbformat_minor": 2
}