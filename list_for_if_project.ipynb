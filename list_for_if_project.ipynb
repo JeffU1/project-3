{
 "cells": [
  {
   "cell_type": "code",
   "execution_count": 8,
   "metadata": {},
   "outputs": [
    {
     "output_type": "stream",
     "name": "stdout",
     "text": "['xanadu', 'xyz']\n"
    }
   ],
   "source": [
    "list1=['mix', 'xyz', 'apple', 'xanadu', 'aardvark']\n",
    "\n",
    "mylist1 = sorted((i for i in list1 if i.startswith((\"x\"))))\n",
    "\n",
    "\n",
    "print(mylist1)"
   ]
  },
  {
   "cell_type": "code",
   "execution_count": 24,
   "metadata": {},
   "outputs": [
    {
     "output_type": "stream",
     "name": "stdout",
     "text": "['xanadu', 'xyz', 'aardvark', 'apple', 'mix']\n"
    }
   ],
   "source": [
    "list1=['mix', 'xyz', 'apple', 'xanadu', 'aardvark']\n",
    "list2=[]\n",
    "for i in list1:\n",
    "    if i.startswith(\"x\")==True:\n",
    "        list2.append(i)\n",
    "list1.sort()\n",
    "list2.sort()\n",
    "x=list2+list1\n",
    "x= list(dict.fromkeys(x))\n",
    "print(x)\n",
    "    \n"
   ]
  },
  {
   "cell_type": "code",
   "execution_count": null,
   "metadata": {},
   "outputs": [],
   "source": []
  }
 ],
 "metadata": {
  "language_info": {
   "codemirror_mode": {
    "name": "ipython",
    "version": 3
   },
   "file_extension": ".py",
   "mimetype": "text/x-python",
   "name": "python",
   "nbconvert_exporter": "python",
   "pygments_lexer": "ipython3",
   "version": "3.7.6-final"
  },
  "orig_nbformat": 2,
  "kernelspec": {
   "name": "python3",
   "display_name": "Python 3"
  }
 },
 "nbformat": 4,
 "nbformat_minor": 2
}